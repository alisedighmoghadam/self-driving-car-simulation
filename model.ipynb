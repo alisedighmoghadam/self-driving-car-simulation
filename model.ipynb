{
 "cells": [
  {
   "cell_type": "code",
   "execution_count": 6,
   "id": "0fd276b6",
   "metadata": {},
   "outputs": [],
   "source": [
    "import matplotlib.pyplot as plt\n",
    "import pandas as pd\n",
    "import numpy as np\n",
    "import tensorflow as tf\n",
    "import math\n",
    "import cv2\n",
    "\n",
    "Y_START,Y_END=60,135\n",
    "IMG_SIZE=(200,66)\n",
    "BATCH = 32\n",
    "\n",
    "\n"
   ]
  },
  {
   "cell_type": "markdown",
   "id": "c805e1d0",
   "metadata": {},
   "source": [
    "### Data Augmentation"
   ]
  },
  {
   "cell_type": "code",
   "execution_count": null,
   "id": "4237214f",
   "metadata": {},
   "outputs": [],
   "source": []
  },
  {
   "cell_type": "markdown",
   "id": "596a5317",
   "metadata": {},
   "source": [
    "### Data preprocessing\n"
   ]
  },
  {
   "cell_type": "code",
   "execution_count": null,
   "id": "c048e688",
   "metadata": {},
   "outputs": [],
   "source": [
    "def preprocess_image(img_bgr):\n",
    "    \n",
    "    # Crop the image to get the road\n",
    "    cropped = img_bgr[60:136, :, :]\n",
    "    \n",
    "    # Convert BGR to YUV\n",
    "    yuv = cv2.cvtColor(cropped, cv2.COLOR_BGR2YUV)\n",
    "\n",
    "    # Gaussian blur\n",
    "    yuv = cv2.GaussianBlur(yuv, (3, 3), 0)\n",
    "\n",
    "    # Resize\n",
    "    resized = cv2.resize(yuv, (200, 66), interpolation=cv2.INTER_AREA)\n",
    "\n",
    "    # Normalize pixel values to range[0,1]\n",
    "    processed = resized.astype(np.float32) / 255.0\n",
    "\n",
    "    return processed"
   ]
  },
  {
   "cell_type": "markdown",
   "id": "2541eb92",
   "metadata": {},
   "source": [
    "### Model "
   ]
  },
  {
   "cell_type": "code",
   "execution_count": null,
   "id": "69920a95",
   "metadata": {},
   "outputs": [],
   "source": []
  }
 ],
 "metadata": {
  "kernelspec": {
   "display_name": ".venv (3.12.0)",
   "language": "python",
   "name": "python3"
  },
  "language_info": {
   "codemirror_mode": {
    "name": "ipython",
    "version": 3
   },
   "file_extension": ".py",
   "mimetype": "text/x-python",
   "name": "python",
   "nbconvert_exporter": "python",
   "pygments_lexer": "ipython3",
   "version": "3.12.0"
  }
 },
 "nbformat": 4,
 "nbformat_minor": 5
}
